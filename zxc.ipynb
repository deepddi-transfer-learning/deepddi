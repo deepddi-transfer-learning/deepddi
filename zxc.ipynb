{
 "cells": [
  {
   "cell_type": "code",
   "execution_count": 3,
   "metadata": {},
   "outputs": [],
   "source": [
    "import pandas as pd\n",
    "import numpy as np\n",
    "pd.set_option('display.max_columns', None)"
   ]
  },
  {
   "cell_type": "code",
   "execution_count": 30,
   "metadata": {},
   "outputs": [
    {
     "name": "stderr",
     "output_type": "stream",
     "text": [
      "/Users/zhaoxiangchen/anaconda3/lib/python3.6/site-packages/IPython/core/interactiveshell.py:2728: DtypeWarning: Columns (3,4,5,6,12,13,14,15) have mixed types. Specify dtype option on import or set low_memory=False.\n",
      "  interactivity=interactivity, compiler=compiler, result=result)\n"
     ]
    }
   ],
   "source": [
    "content=pd.read_csv('data/Content.csv',chunksize=5000)\n",
    "compound=pd.read_csv('data/Compound.csv')\n",
    "compound=compound[['id','name','cas_number']]\n",
    "drugdb=pd.read_csv('data/Drug_info_combined.csv')"
   ]
  },
  {
   "cell_type": "code",
   "execution_count": 31,
   "metadata": {},
   "outputs": [],
   "source": [
    "food_compound=pd.DataFrame()\n",
    "for i in content:\n",
    "    i=i.loc[i['source_type']=='Compound']\n",
    "    i=i.loc[i['orig_content']>0]\n",
    "    if len(i)>0:\n",
    "        i=i.merge(compound,left_on='source_id',right_on='id',how='left')\n",
    "        i=i.dropna(subset=['cas_number','orig_food_common_name'])\n",
    "        i['orig_food_common_name']=i['orig_food_common_name'].apply(lambda x: x.split(',')[0])\n",
    "        i=i.groupby('orig_food_common_name')['orig_food_common_name','orig_source_name','orig_content','cas_number'].apply(lambda x: x.nlargest(3,'orig_content'))\n",
    "        i=i.reset_index(drop=True)\n",
    "        food_compound=pd.concat([food_compound,i])\n",
    "food_compound=food_compound.dropna()\n",
    "food_compound=food_compound.groupby('orig_food_common_name')['orig_food_common_name','orig_source_name','orig_content','cas_number'].apply(lambda x: x.drop_duplicates('orig_source_name'))\n",
    "food_compound.reset_index(drop=True,inplace=True)\n",
    "food_compound=food_compound.groupby('orig_food_common_name')['orig_food_common_name','orig_source_name','orig_content','cas_number'].apply(lambda x: x.nlargest(3,'orig_content'))\n",
    "food_compound.reset_index(drop=True,inplace=True)"
   ]
  },
  {
   "cell_type": "code",
   "execution_count": 35,
   "metadata": {},
   "outputs": [],
   "source": [
    "food_compound=pd.read_csv('data/Food_compounds.csv')"
   ]
  },
  {
   "cell_type": "code",
   "execution_count": 57,
   "metadata": {},
   "outputs": [
    {
     "data": {
      "text/plain": [
       "array(['Sugars, total', 'SUCROSE|SUGAR', 'FRUCTOSE'], dtype=object)"
      ]
     },
     "execution_count": 57,
     "metadata": {},
     "output_type": "execute_result"
    }
   ],
   "source": [
    "food_compound[food_compound['orig_food_common_name']=='Apple']['orig_source_name'].values"
   ]
  },
  {
   "cell_type": "code",
   "execution_count": null,
   "metadata": {},
   "outputs": [],
   "source": []
  }
 ],
 "metadata": {
  "kernelspec": {
   "display_name": "Python 3",
   "language": "python",
   "name": "python3"
  },
  "language_info": {
   "codemirror_mode": {
    "name": "ipython",
    "version": 3
   },
   "file_extension": ".py",
   "mimetype": "text/x-python",
   "name": "python",
   "nbconvert_exporter": "python",
   "pygments_lexer": "ipython3",
   "version": "3.6.6"
  }
 },
 "nbformat": 4,
 "nbformat_minor": 4
}
